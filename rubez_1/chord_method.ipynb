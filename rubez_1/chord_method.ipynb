{
 "cells": [
  {
   "cell_type": "markdown",
   "metadata": {},
   "source": [
    "# Метод хорд\n",
    "\n",
    "функция $y=f(x)$ на отрезке $[a, b]$ заменяется хордой и в качестве приближенного значения корня принимается точка пересечения хорды с осью абсцисс:\n",
    "\n",
    "$$x = a - \\frac{b - a}{f(b) - f(a)} f(a)$$\n",
    "\n",
    "В качестве нового интервала выбираем ту половину отрезка, на концах которого функция имеет разные знаки\n",
    "\n",
    "Рабочая формула: $$x_n = \\frac{a_n f(b_n) - b_n f(a_n)}{f(b_n) - f(a_n)}$$\n",
    "\n"
   ]
  },
  {
   "cell_type": "code",
   "execution_count": 2,
   "metadata": {},
   "outputs": [],
   "source": [
    "def f(x):\n",
    "    return -1.38*x**3 - 5.42*x**2 + 2.57*x + 10.95"
   ]
  },
  {
   "cell_type": "code",
   "execution_count": 3,
   "metadata": {},
   "outputs": [],
   "source": [
    "def chord_method(a, b, eps):\n",
    "    x = a - (b-a)/(f(b)-f(a)) * f(a)\n",
    "    if (f(a)*f(x) > 0):\n",
    "        a = x\n",
    "    else:\n",
    "        b = x\n",
    "    while ( abs(f(x)) > eps and abs(a - b) > eps):\n",
    "        x = (a*f(b) - b*f(a)) / (f(b) - f(a))\n",
    "        if (f(a)*f(x) > 0):\n",
    "            a = x\n",
    "        else:\n",
    "            b = x\n",
    "    return x"
   ]
  },
  {
   "cell_type": "code",
   "execution_count": 5,
   "metadata": {},
   "outputs": [
    {
     "name": "stdout",
     "output_type": "stream",
     "text": [
      "1.4066400756959956\n"
     ]
    }
   ],
   "source": [
    "print(chord_method(1, 2, 0.0000001))"
   ]
  }
 ],
 "metadata": {
  "kernelspec": {
   "display_name": "Python 3",
   "language": "python",
   "name": "python3"
  },
  "language_info": {
   "codemirror_mode": {
    "name": "ipython",
    "version": 3
   },
   "file_extension": ".py",
   "mimetype": "text/x-python",
   "name": "python",
   "nbconvert_exporter": "python",
   "pygments_lexer": "ipython3",
   "version": "3.6.5"
  }
 },
 "nbformat": 4,
 "nbformat_minor": 2
}
