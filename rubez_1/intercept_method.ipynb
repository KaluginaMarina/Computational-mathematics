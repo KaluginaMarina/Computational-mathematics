{
 "cells": [
  {
   "cell_type": "markdown",
   "metadata": {},
   "source": [
    "# Метод секущих\n",
    "\n",
    "Рабочая формула:\n",
    "\n",
    "$$x_{i+1} = x_i - \\frac{x_i - x_{i-1}}{f(x_i) - f(x_{i-1})}f(x_i),\\ i = 1,2...$$\n",
    "\n",
    "Выбор $x_0$ определяется как и в методе Ньютона, $x_1$- выбирается рядом с начальным самостоятельно. \n",
    "\n",
    "Критерий окончания итерационного процесса: $|x_n - x_{n - 1}|  \\leq  \\varepsilon$ или $|f(x_n)|  \\leq  \\varepsilon$.\n",
    "\n",
    "Приближенное значение корня: $x* = x_n$"
   ]
  },
  {
   "cell_type": "code",
   "execution_count": 1,
   "metadata": {},
   "outputs": [],
   "source": [
    "def f(x):\n",
    "    return -1.38*x**3 - 5.42*x**2 + 2.57*x + 10.95"
   ]
  },
  {
   "cell_type": "code",
   "execution_count": 2,
   "metadata": {},
   "outputs": [],
   "source": [
    "def intercept_method(x0, x1, eps):\n",
    "    while(abs(f(x1)) > eps and abs(x1-x0) > eps):\n",
    "        x2 = x1 - (x1 - x0) / (f(x1) - f(x0)) * f(x1)\n",
    "        x0 = x1\n",
    "        x1 = x2\n",
    "    return x1"
   ]
  },
  {
   "cell_type": "code",
   "execution_count": 3,
   "metadata": {},
   "outputs": [
    {
     "name": "stdout",
     "output_type": "stream",
     "text": [
      "1.406640078153364\n"
     ]
    }
   ],
   "source": [
    "print(intercept_method(2, 1, 0.00000001))"
   ]
  }
 ],
 "metadata": {
  "kernelspec": {
   "display_name": "Python 3",
   "language": "python",
   "name": "python3"
  },
  "language_info": {
   "codemirror_mode": {
    "name": "ipython",
    "version": 3
   },
   "file_extension": ".py",
   "mimetype": "text/x-python",
   "name": "python",
   "nbconvert_exporter": "python",
   "pygments_lexer": "ipython3",
   "version": "3.6.5"
  }
 },
 "nbformat": 4,
 "nbformat_minor": 2
}
