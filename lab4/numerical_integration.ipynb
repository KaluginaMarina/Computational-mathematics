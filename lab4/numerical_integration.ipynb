{
 "cells": [
  {
   "cell_type": "code",
   "execution_count": 20,
   "metadata": {},
   "outputs": [],
   "source": [
    "import math\n",
    "\n",
    "n = 0\n",
    "\n",
    "# y = x\n",
    "def f1(x):\n",
    "    return x\n",
    "\n",
    "# y = 2*x^2 \n",
    "def f2(x):\n",
    "    return 2*x*x\n",
    "\n",
    "# y = sin(x)\n",
    "def f3(x):\n",
    "    return math.sin(x)\n",
    "\n",
    "# y = x * cos(x) \n",
    "def f4(x):\n",
    "    return x * math.cos(x)"
   ]
  },
  {
   "cell_type": "markdown",
   "metadata": {},
   "source": [
    "# Методы прямоугольников\n",
    "\n",
    "## Метод левых прямоугольников\n",
    "\n",
    "$$ \\int _{a}^{b}f(x)\\,dx\\approx \\sum _{{i=0}}^{{n-1}}f(x_{i})(x_{{i+1}}-x_{i}) $$\n",
    "\n",
    "## Метод правых прямоугольников\n",
    "\n",
    "$$ {\\displaystyle \\int _{a}^{b}f(x)\\,dx\\approx \\sum _{i=1}^{n}f(x_{i})(x_{i}-x_{i-1}).} \\int _{a}^{b}f(x)\\,dx\\approx \\sum _{{i=1}}^{n}f(x_{i})(x_{i}-x_{{i-1}}) $$\n",
    "\n",
    "## Метод средних прямоугольников\n",
    " $$ {\\displaystyle \\int _{a}^{b}f(x)\\,dx\\approx \\sum _{i=0}^{n-1}f\\left({\\frac {x_{i}+x_{i+1}}{2}}\\right)(x_{i+1}-x_{i})=\\sum _{i=1}^{n}f\\left({\\frac {x_{i-1}+x_{i}}{2}}\\right)(x_{i}-x_{i-1}).} \\int _{a}^{b}f(x)\\,dx\\approx \\sum _{{i=0}}^{{n-1}}f\\left({\\frac  {x_{i}+x_{{i+1}}}{2}}\\right)(x_{{i+1}}-x_{i})=\\sum _{{i=1}}^{n}f\\left({\\frac  {x_{{i-1}}+x_{i}}{2}}\\right)(x_{i}-x_{{i-1}}) $$"
   ]
  },
  {
   "cell_type": "code",
   "execution_count": 24,
   "metadata": {},
   "outputs": [
    {
     "name": "stdout",
     "output_type": "stream",
     "text": [
      "0.4999961853027344\n",
      "131072\n"
     ]
    }
   ],
   "source": [
    "# метод левых прямоугольников\n",
    "def left_rect_method(a, b, f):\n",
    "    global n\n",
    "    s = 0\n",
    "    n = 4\n",
    "    while(True):\n",
    "        summ = 0\n",
    "        h = (b - a)/n\n",
    "        for i in range(0, n):\n",
    "            x = a + i * h\n",
    "            summ += f(x)\n",
    "        summ *= h\n",
    "        if (abs(s - summ) < 0.000001) or (n > 100000):\n",
    "            return summ\n",
    "        else:\n",
    "            n *= 2\n",
    "            s = summ\n",
    "\n",
    "print(left_rect_method(0, 1, f1))\n",
    "print(n)"
   ]
  },
  {
   "cell_type": "code",
   "execution_count": 26,
   "metadata": {},
   "outputs": [
    {
     "name": "stdout",
     "output_type": "stream",
     "text": [
      "0.5000038146972656\n",
      "131072\n"
     ]
    }
   ],
   "source": [
    "# метод правых прямоугольников\n",
    "def right_rect_method(a, b, f):\n",
    "    global n\n",
    "    s = 0\n",
    "    n = 4\n",
    "    while(True):\n",
    "        summ = 0\n",
    "        h = (b - a)/n\n",
    "        for i in range(1, n+1):\n",
    "            x = a + i * h\n",
    "            summ += f(x)\n",
    "        summ *= h\n",
    "        if (abs(s - summ) < 0.000001) or (n > 100000):\n",
    "            return summ\n",
    "        else:\n",
    "            n *= 2\n",
    "            s = summ\n",
    "    \n",
    "print(right_rect_method(0, 1, f1))\n",
    "print(n)"
   ]
  },
  {
   "cell_type": "code",
   "execution_count": 29,
   "metadata": {},
   "outputs": [
    {
     "name": "stdout",
     "output_type": "stream",
     "text": [
      "0.5000076293945312\n",
      "131072\n"
     ]
    }
   ],
   "source": [
    "# метод средних прямоугольников\n",
    "def medium_rect_method(a, b, f):\n",
    "    global n\n",
    "    s = 0\n",
    "    n = 4\n",
    "    while(True):\n",
    "        summ = 0\n",
    "        h = (b - a)/n\n",
    "        for i in range(1, n+1):\n",
    "            x = a + i * h + h/2\n",
    "            summ += f(x)\n",
    "        summ *= h\n",
    "        if (abs(s - summ) < 0.000001) or (n > 100000):\n",
    "            return summ\n",
    "        else:\n",
    "            n *= 2\n",
    "            s = summ\n",
    "    \n",
    "print(medium_rect_method(0, 1, f1))\n",
    "print(n)"
   ]
  },
  {
   "cell_type": "markdown",
   "metadata": {},
   "source": [
    "# Метод трапеций\n",
    "\n",
    "$$ \\int _{a}^{b}f(x)\\,dx\\approx \\sum _{{i=0}}^{{n-1}}{\\frac  {f(x_{i})+f(x_{{i+1}})}{2}}(x_{{i+1}}-x_{{i}}) $$"
   ]
  },
  {
   "cell_type": "code",
   "execution_count": null,
   "metadata": {},
   "outputs": [],
   "source": []
  }
 ],
 "metadata": {
  "kernelspec": {
   "display_name": "Python 3",
   "language": "python",
   "name": "python3"
  },
  "language_info": {
   "codemirror_mode": {
    "name": "ipython",
    "version": 3
   },
   "file_extension": ".py",
   "mimetype": "text/x-python",
   "name": "python",
   "nbconvert_exporter": "python",
   "pygments_lexer": "ipython3",
   "version": "3.6.5"
  }
 },
 "nbformat": 4,
 "nbformat_minor": 2
}
