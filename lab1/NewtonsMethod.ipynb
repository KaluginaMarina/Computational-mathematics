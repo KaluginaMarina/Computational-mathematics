{
 "cells": [
  {
   "cell_type": "markdown",
   "metadata": {},
   "source": [
    "# Метод Ньютона"
   ]
  },
  {
   "cell_type": "code",
   "execution_count": 1,
   "metadata": {},
   "outputs": [],
   "source": [
    "def calc_f(x):\n",
    "    return -1.38*x**3 - 5.42*x**2 + 2.57*x + 10.95\n",
    "\n",
    "def deriv_f(x):\n",
    "    return -1.38*3*x**2 - 5.42*2*x + 2.57\n",
    "\n",
    "def deriv2_f(x):\n",
    "    return -1.38*3*2*x - 5.42*2"
   ]
  },
  {
   "cell_type": "code",
   "execution_count": 2,
   "metadata": {},
   "outputs": [],
   "source": [
    "def newtonsMethod(x0, eps):\n",
    "    global n\n",
    "    x1 = x0 - (calc_f(x0) / deriv_f(x0))\n",
    "    while (abs(calc_f(x0)) > eps):\n",
    "        n = n + 1\n",
    "        x1 = x0 - (calc_f(x0) / deriv_f(x0))\n",
    "        x0 = x1\n",
    "    return x1"
   ]
  },
  {
   "cell_type": "code",
   "execution_count": 30,
   "metadata": {},
   "outputs": [],
   "source": [
    "def iter_f (a, b, step, eps):\n",
    "    global n\n",
    "    n = 0\n",
    "    while (a <= b):\n",
    "        if (calc_f(a)*calc_f(a + step) <= 0 and deriv_f(a)*deriv_f(a + step) > 0 and deriv2_f(a)*deriv2_f(a + step) > 0 and abs(deriv_f(a)) > eps):\n",
    "            if (calc_f(a)*deriv2_f(a) > 0):\n",
    "                ans = newtonsMethod(a, eps)\n",
    "                print (\"x =\", ans)\n",
    "                print (\"f(\", ans, \") = \", calc_f(ans), \"\\n\")\n",
    "            else:\n",
    "                ans = newtonsMethod(a + step, eps)\n",
    "                print (\"x =\", ans)\n",
    "                print (\"f(\", ans, \") = \", calc_f(ans), \"\\n\")\n",
    "        a = a + step\n",
    "    print(\"Количество итераций: \", n)"
   ]
  },
  {
   "cell_type": "code",
   "execution_count": 11,
   "metadata": {},
   "outputs": [],
   "source": [
    "def answer (a, eps):\n",
    "    global n\n",
    "    print(\"Введите: 1 - для вывода ответа на экран; 2 - для сохранения ответа в файл.\")\n",
    "    \n",
    "    err = True\n",
    "    while (err == True):\n",
    "        kuda_write = input()\n",
    "        if (kuda_write == '1' or kuda_write == '2'):\n",
    "            err = False\n",
    "        else:\n",
    "            print(\":(\")\n",
    "    \n",
    "    if (kuda_write == '1'):\n",
    "        x = newtonsMethod(a, eps)\n",
    "        print (f'Начальное приближение = {a}, погрешность = {eps}\\n\\nОтвет:\\nx = {x}\\nf(x) = {calc_f(x)}\\nКоличество итераций = {n}')\n",
    "    if (kuda_write == '2'):\n",
    "        out_file = open(\"answer_newton.txt\", \"w\")\n",
    "        x = newtonsMethod(a, eps)\n",
    "        str_ans = f'Начальное приближение = {a}, погрешность = {eps}\\n\\nОтвет:\\nx = {x}\\nf(x) = {calc_f(x)}\\nКоличество итераций = {n}'\n",
    "        out_file.write(str_ans)"
   ]
  },
  {
   "cell_type": "markdown",
   "metadata": {},
   "source": [
    "# Ввод данных с файла\n",
    "\n",
    "В файле data_newton.txt должны находиться 2 значения в разных строках:\n",
    "\n",
    "1. Начальное приближение\n",
    "2. Погрешность"
   ]
  },
  {
   "cell_type": "code",
   "execution_count": 10,
   "metadata": {},
   "outputs": [
    {
     "name": "stdout",
     "output_type": "stream",
     "text": [
      "Введите: 1 - для вывода ответа на экран; 2 - для сохранения ответа в файл.\n",
      "1\n",
      "Начальное приближение = 1.4, погрешность = 1e-11\n",
      "\n",
      "Ответ:\n",
      "x = 1.4066400781543442\n",
      "f(x) = -3.552713678800501e-15\n",
      "Количество итераций = 9\n"
     ]
    }
   ],
   "source": [
    "with open('data_newton.txt', 'r') as myfile:\n",
    "    content = myfile.readlines()\n",
    "    \n",
    "content = [x.strip() for x in content] \n",
    "\n",
    "try:\n",
    "    a = float(content[0])\n",
    "    eps = float(content[2])\n",
    "except Exception:\n",
    "    (\"Проверьте правильность данные в файле\")\n",
    "n = 0\n",
    "answer(a, eps)"
   ]
  },
  {
   "cell_type": "markdown",
   "metadata": {},
   "source": [
    "# Ввод данных с клавиатуры"
   ]
  },
  {
   "cell_type": "code",
   "execution_count": 14,
   "metadata": {},
   "outputs": [
    {
     "name": "stdout",
     "output_type": "stream",
     "text": [
      "Введите начальное приближение:\n",
      "-3\n",
      "Введите погрешность:\n",
      "0.00001\n",
      "Введите: 1 - для вывода ответа на экран; 2 - для сохранения ответа в файл.\n",
      "2\n"
     ]
    }
   ],
   "source": [
    "err = True\n",
    "\n",
    "while (err == True):\n",
    "    try:\n",
    "        print (\"Введите начальное приближение:\")\n",
    "        a = float(input())\n",
    "        print (\"Введите погрешность:\")\n",
    "        eps = float(input())\n",
    "        err = False\n",
    "    except Exception:\n",
    "        print(\"Ошибка. Проверьте правильность введенных данных\\n\")\n",
    "\n",
    "n = 0\n",
    "answer(a, eps)"
   ]
  },
  {
   "cell_type": "markdown",
   "metadata": {},
   "source": [
    "# Поиск всех корней на промежутке [a, b]"
   ]
  },
  {
   "cell_type": "code",
   "execution_count": 34,
   "metadata": {},
   "outputs": [
    {
     "name": "stdout",
     "output_type": "stream",
     "text": [
      "Введите координату начала:\n",
      "-5\n",
      "Введите координату конца:\n",
      "5\n",
      "Введите погрешность:\n",
      "0.000000001\n",
      "\n",
      "Ответ:\n",
      "x = -3.8805179575137543\n",
      "f( -3.8805179575137543 ) =  1.5987211554602254e-14 \n",
      "\n",
      "x = -1.4536583525246491\n",
      "f( -1.4536583525246491 ) =  0.0 \n",
      "\n",
      "x = 1.4066400781543442\n",
      "f( 1.4066400781543442 ) =  -3.552713678800501e-15 \n",
      "\n",
      "Количество итераций:  10\n"
     ]
    }
   ],
   "source": [
    "err = True\n",
    "\n",
    "while (err == True):\n",
    "    try:\n",
    "        print (\"Введите координату начала:\")\n",
    "        a = float(input())\n",
    "        print (\"Введите координату конца:\")\n",
    "        b = float(input())\n",
    "        if (a > b):\n",
    "            print(\"Координата конца больше координаты начала? :С\")\n",
    "            raise Exception(\"\")\n",
    "        print (\"Введите погрешность:\")\n",
    "        eps = float(input())\n",
    "        err = False\n",
    "    except Exception:\n",
    "        print(\"Ошибка. Проверьте правильность введенных данных\\n\")\n",
    "\n",
    "print (\"\\nОтвет:\")\n",
    "iter_f(a, b, 0.1, eps)"
   ]
  },
  {
   "cell_type": "markdown",
   "metadata": {},
   "source": [
    "# График функции"
   ]
  },
  {
   "cell_type": "code",
   "execution_count": 36,
   "metadata": {},
   "outputs": [
    {
     "data": {
      "image/png": "[encoded data removed]",
      "text/plain": [
       "<Figure size 864x432 with 1 Axes>"
      ]
     },
     "metadata": {},
     "output_type": "display_data"
    }
   ],
   "source": [
    "%matplotlib inline\n",
    "\n",
    "import numpy as np\n",
    "import matplotlib.pyplot as plt\n",
    "\n",
    "x = np.array(np.arange(-4, 2, step=0.1)) \n",
    "y = calc_f(x)\n",
    "plt.figure(figsize=(12,6))\n",
    "plt.plot(x, y) \n",
    "plt.grid()\n",
    "plt.show()"
   ]
  }
 ],
 "metadata": {
  "kernelspec": {
   "display_name": "Python 3",
   "language": "python",
   "name": "python3"
  },
  "language_info": {
   "codemirror_mode": {
    "name": "ipython",
    "version": 3
   },
   "file_extension": ".py",
   "mimetype": "text/x-python",
   "name": "python",
   "nbconvert_exporter": "python",
   "pygments_lexer": "ipython3",
   "version": "3.6.5"
  }
 },
 "nbformat": 4,
 "nbformat_minor": 2
}
