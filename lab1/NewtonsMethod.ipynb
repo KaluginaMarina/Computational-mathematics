{
 "cells": [
  {
   "cell_type": "markdown",
   "metadata": {},
   "source": [
    "# Метод Ньютона"
   ]
  },
  {
   "cell_type": "code",
   "execution_count": 2,
   "metadata": {},
   "outputs": [],
   "source": [
    "def calc_f(x):\n",
    "    return -1.38*x**3 - 5.42*x**2 + 2.57*x + 10.95\n",
    "\n",
    "def deriv_f(x):\n",
    "    return -1.38*3*x**2 - 5.42*2*x + 2.57\n",
    "\n",
    "def deriv2_f(x):\n",
    "    return -1.38*3*2*x - 5.42*2"
   ]
  },
  {
   "cell_type": "code",
   "execution_count": 25,
   "metadata": {},
   "outputs": [],
   "source": [
    "def newtonsMethod(x0, eps):\n",
    "    global n\n",
    "    x1 = x0 - (calc_f(x0) / deriv_f(x0))\n",
    "    while (abs(calc_f(x0)) > eps):\n",
    "        n = n + 1\n",
    "        x1 = x0 - (calc_f(x0) / deriv_f(x0))\n",
    "        x0 = x1\n",
    "    return x1"
   ]
  },
  {
   "cell_type": "code",
   "execution_count": 8,
   "metadata": {},
   "outputs": [],
   "source": [
    "def iter_f (a, b, step, eps):\n",
    "    while (a <= b):\n",
    "        if (calc_f(a)*calc_f(a + step) <= 0 and deriv_f(a)*deriv_f(a + step) > 0 and deriv2_f(a)*deriv2_f(a + step) > 0 and abs(deriv_f(a)) > eps):\n",
    "            if (calc_f(a)*deriv2_f(a) > 0):\n",
    "                print (newtonsMethod(a, eps))\n",
    "            else:\n",
    "                print (newtonsMethod(a + step, eps))\n",
    "        a = a + step"
   ]
  },
  {
   "cell_type": "code",
   "execution_count": 9,
   "metadata": {},
   "outputs": [],
   "source": [
    "n = 0\n",
    "def answer (a, eps):\n",
    "    global n\n",
    "    print(\"Введите: 1 - для вывода ответа на экран; 2 - для сохранения ответа в файл.\")\n",
    "    \n",
    "    err = True\n",
    "    while (err == True):\n",
    "        kuda_write = input()\n",
    "        if (kuda_write == '1' or kuda_write == '2'):\n",
    "            err = False\n",
    "        else:\n",
    "            print(\":(\")\n",
    "    \n",
    "    if (kuda_write == '1'):\n",
    "        x = newtonsMethod(a, eps)\n",
    "        print (f'Начальное приближение = {a}, погрешность = {eps}\\n\\nОтвет:\\nx = {x}\\nf(x) = {calc_f(x)}\\nКоличество итераций = {n}')\n",
    "    if (kuda_write == '2'):\n",
    "        out_file = open(\"answer_newton.txt\", \"w\")\n",
    "        x = newtonsMethod(a, eps)\n",
    "        str_ans = f'Начальное приближение = {a}, погрешность = {eps}\\n\\nОтвет:\\nx = {x}\\nf(x) = {calc_f(x)}\\nКоличество итераций = {n}'\n",
    "        out_file.write(str_ans)"
   ]
  },
  {
   "cell_type": "markdown",
   "metadata": {},
   "source": [
    "# Ввод данных с файла\n",
    "\n",
    "В файле data_newton.txt должны находиться 2 значения в разных строках:\n",
    "\n",
    "1. Начальное приближение\n",
    "2. Погрешность"
   ]
  },
  {
   "cell_type": "code",
   "execution_count": 26,
   "metadata": {},
   "outputs": [
    {
     "name": "stdout",
     "output_type": "stream",
     "text": [
      "Введите: 1 - для вывода ответа на экран; 2 - для сохранения ответа в файл.\n",
      "1\n",
      "Начальное приближение = 1.4, погрешность = 1e-08\n",
      "\n",
      "Ответ:\n",
      "x = 1.4066400784617143\n",
      "f(x) = -6.4146732370318205e-09\n",
      "Количество итераций = 43\n"
     ]
    }
   ],
   "source": [
    "with open('data_newton.txt', 'r') as myfile:\n",
    "    content = myfile.readlines()\n",
    "    \n",
    "content = [x.strip() for x in content] \n",
    "\n",
    "try:\n",
    "    a = float(content[0])\n",
    "    eps = float(content[2])\n",
    "except Exception:\n",
    "    (\"Проверьте правильность данные в файле\")\n",
    "\n",
    "answer(a, eps)"
   ]
  },
  {
   "cell_type": "markdown",
   "metadata": {},
   "source": [
    "# Ввод данных с клавиатуры"
   ]
  },
  {
   "cell_type": "code",
   "execution_count": 28,
   "metadata": {},
   "outputs": [
    {
     "name": "stdout",
     "output_type": "stream",
     "text": [
      "Введите начальное приближение:\n",
      "1\n",
      "Введите погрешность:\n",
      "0.0000000001\n",
      "Введите: 1 - для вывода ответа на экран; 2 - для сохранения ответа в файл.\n",
      "1\n",
      "Начальное приближение = 1.0, погрешность = 1e-10\n",
      "\n",
      "Ответ:\n",
      "x = 1.406640078154344\n",
      "f(x) = 1.7763568394002505e-15\n",
      "Количество итераций = 52\n"
     ]
    }
   ],
   "source": [
    "err = True\n",
    "\n",
    "while (err == True):\n",
    "    try:\n",
    "        print (\"Введите начальное приближение:\")\n",
    "        a = float(input())\n",
    "        print (\"Введите погрешность:\")\n",
    "        eps = float(input())\n",
    "        err = False\n",
    "    except Exception:\n",
    "        print(\"Ошибка. Проверьте правильность введенных данных\\n\")\n",
    "        \n",
    "answer(a, eps)"
   ]
  },
  {
   "cell_type": "markdown",
   "metadata": {},
   "source": [
    "# Поиск всех корней на промежутке [a, b]"
   ]
  },
  {
   "cell_type": "code",
   "execution_count": 29,
   "metadata": {},
   "outputs": [
    {
     "name": "stdout",
     "output_type": "stream",
     "text": [
      "Введите координату начала:\n",
      "-4\n",
      "Введите координату конца:\n",
      "2\n",
      "Введите погрешность:\n",
      "0.0000000001\n",
      "\n",
      "Ответ:\n",
      "-3.880517957513765\n",
      "-1.4536583525246491\n",
      "1.4066400781543469\n"
     ]
    }
   ],
   "source": [
    "err = True\n",
    "\n",
    "while (err == True):\n",
    "    try:\n",
    "        print (\"Введите координату начала:\")\n",
    "        a = float(input())\n",
    "        print (\"Введите координату конца:\")\n",
    "        b = float(input())\n",
    "        if (a > b):\n",
    "            print(\"Координата конца больше координаты начала? :С\")\n",
    "            raise Exception(\"\")\n",
    "        print (\"Введите погрешность:\")\n",
    "        eps = float(input())\n",
    "        err = False\n",
    "    except Exception:\n",
    "        print(\"Ошибка. Проверьте правильность введенных данных\\n\")\n",
    "\n",
    "print (\"\\nОтвет:\")\n",
    "iter_f(a, b, 0.001, eps)"
   ]
  },
  {
   "cell_type": "markdown",
   "metadata": {},
   "source": [
    "# График функции"
   ]
  },
  {
   "cell_type": "code",
   "execution_count": 5,
   "metadata": {},
   "outputs": [
    {
     "data": {
      "image/png": "[encoded data removed]",
      "text/plain": [
       "<Figure size 864x432 with 1 Axes>"
      ]
     },
     "metadata": {},
     "output_type": "display_data"
    }
   ],
   "source": [
    "%matplotlib inline\n",
    "\n",
    "import numpy as np\n",
    "import matplotlib.pyplot as plt\n",
    "\n",
    "x = np.array(np.arange(-20, 20, step=0.1)) \n",
    "y = calc_f(x)\n",
    "plt.figure(figsize=(12,6))\n",
    "plt.plot(x, y) \n",
    "plt.grid()\n",
    "plt.show()"
   ]
  }
 ],
 "metadata": {
  "kernelspec": {
   "display_name": "Python 3",
   "language": "python",
   "name": "python3"
  },
  "language_info": {
   "codemirror_mode": {
    "name": "ipython",
    "version": 3
   },
   "file_extension": ".py",
   "mimetype": "text/x-python",
   "name": "python",
   "nbconvert_exporter": "python",
   "pygments_lexer": "ipython3",
   "version": "3.6.5"
  }
 },
 "nbformat": 4,
 "nbformat_minor": 2
}
