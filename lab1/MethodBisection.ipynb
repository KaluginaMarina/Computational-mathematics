{
 "cells": [
  {
   "cell_type": "markdown",
   "metadata": {},
   "source": [
    "# Метод половинного деления"
   ]
  },
  {
   "cell_type": "code",
   "execution_count": 1,
   "metadata": {},
   "outputs": [],
   "source": [
    "def calc_f(x):\n",
    "    return -1.38*x**3 - 5.42*x**2 + 2.57*x + 10.95"
   ]
  },
  {
   "cell_type": "code",
   "execution_count": 2,
   "metadata": {},
   "outputs": [],
   "source": [
    "import math\n",
    "import numpy"
   ]
  },
  {
   "cell_type": "code",
   "execution_count": 19,
   "metadata": {},
   "outputs": [],
   "source": [
    "\n",
    "def methodBisection(a, b, eps):\n",
    "    global n\n",
    "    n = n + 1\n",
    "    if ( n == 1 ) and ( calc_f(a)/calc_f(b) > 0 ):\n",
    "        return None\n",
    "    \n",
    "    if ( abs(calc_f(a)) < eps ):\n",
    "        return a\n",
    "    if ( abs(calc_f(b)) < eps  ):\n",
    "        return b\n",
    "    if ( abs(calc_f((a + b)/2.0)) < eps ):\n",
    "        return (a + b)/2.0\n",
    "    x = (a + b)/2.0\n",
    "    if ( calc_f(a)/calc_f(x) < 0):\n",
    "        return methodBisection(a, x, eps)\n",
    "    else: \n",
    "        return methodBisection(x, b, eps)"
   ]
  },
  {
   "cell_type": "code",
   "execution_count": 27,
   "metadata": {},
   "outputs": [],
   "source": [
    "def validation(a, b,eps):\n",
    "    global n\n",
    "    if (a > b):\n",
    "        print(\"Координата конца больше координаты начала? :С\")\n",
    "        exit(0)\n",
    "    \n",
    "    print(\"Введите: 1 - для вывода ответа на экран; 2 - для сохранения ответа в файл.\")\n",
    "    \n",
    "    err = True\n",
    "    while (err == True):\n",
    "        kuda_write = input()\n",
    "        if (kuda_write == '1' or kuda_write == '2'):\n",
    "            err = False\n",
    "        else:\n",
    "            print(\":(\")\n",
    "    \n",
    "    if (kuda_write == '1'):\n",
    "        print ('\\nИнтервал [', a, ',', b, '], погрешность =', eps)\n",
    "\n",
    "        print (\"\\nОтвет:\")\n",
    "\n",
    "        ans = methodBisection(a, b, eps)\n",
    "        if (ans is None): \n",
    "            print(\"Корня нет или больше одного\")\n",
    "        else: \n",
    "            print('x =', ans)\n",
    "            print('f(x) =', calc_f(ans))\n",
    "            print('количество итераций:', n)\n",
    "        return\n",
    "    \n",
    "    if (kuda_write == '2'):\n",
    "        out_file = open(\"answer_bisection.txt\", \"w\")\n",
    "        str_ans = 'Интервал [' + str(a) + ',' +  str(b) + '], погрешность = ' + str(eps) + \"\\nОтвет:\"\n",
    "        \n",
    "\n",
    "        ans = methodBisection(a, b, eps)\n",
    "        if (ans is None): \n",
    "            str_ans += \"Корня нет или больше одного\"\n",
    "        else: \n",
    "            str_ans += 'x = ' + str(ans) + '\\nf(x) = ' + str(calc_f(ans)) + '\\nколичество итераций:' + str(n)\n",
    "        out_file.write(str_ans)\n",
    "        return"
   ]
  },
  {
   "cell_type": "markdown",
   "metadata": {},
   "source": [
    "# Данные с файла\n",
    "\n",
    "В файле `data_bisection.txt` должны находиться 3 значения в разных строках:\n",
    "1. координата начала интервала\n",
    "2. координата конца интервала\n",
    "3. погрешность"
   ]
  },
  {
   "cell_type": "code",
   "execution_count": 14,
   "metadata": {},
   "outputs": [
    {
     "name": "stdout",
     "output_type": "stream",
     "text": [
      "Введите: 1 - для вывода ответа на экран; 2 - для сохранения ответа в файл.\n",
      "1\n",
      "\n",
      "Интервал [ 1.0 , 2.0 ], погрешность = 1e-06\n",
      "\n",
      "Ответ:\n",
      "x = 1.4066400527954102\n",
      "f(x) = 5.292290961023127e-07\n",
      "количество итераций: 20\n"
     ]
    }
   ],
   "source": [
    "with open('data_bisection.txt', 'r') as myfile:\n",
    "    content = myfile.readlines()\n",
    "    \n",
    "content = [x.strip() for x in content] \n",
    "\n",
    "try:\n",
    "    a = float(content[0])\n",
    "    b = float(content[1])\n",
    "    eps = float(content[2])\n",
    "\n",
    "except Exception:\n",
    "    (\"Проверьте правильность данные в файле\")\n",
    "    \n",
    "n = 0\n",
    "validation(a, b, eps)\n"
   ]
  },
  {
   "cell_type": "markdown",
   "metadata": {},
   "source": [
    "# Данные с клавиатуры"
   ]
  },
  {
   "cell_type": "code",
   "execution_count": 28,
   "metadata": {
    "scrolled": true
   },
   "outputs": [
    {
     "name": "stdout",
     "output_type": "stream",
     "text": [
      "Введите координату начала:\n",
      "-1\n",
      "Введите координату конца:\n",
      "1\n",
      "Введите погрешность:\n",
      "0.0000001\n",
      "Введите: 1 - для вывода ответа на экран; 2 - для сохранения ответа в файл.\n",
      "1\n",
      "\n",
      "Интервал [ -1.0 , 1.0 ], погрешность = 1e-07\n",
      "\n",
      "Ответ:\n",
      "Корня нет или больше одного\n"
     ]
    }
   ],
   "source": [
    "err = True\n",
    "\n",
    "while (err == True):\n",
    "    try:\n",
    "        print (\"Введите координату начала:\")\n",
    "        a = float(input())\n",
    "        print (\"Введите координату конца:\")\n",
    "        b = float(input())\n",
    "        if (a > b):\n",
    "            print(\"Координата конца больше координаты начала? :С\")\n",
    "            raise Exception(\"\")\n",
    "        print (\"Введите погрешность:\")\n",
    "        eps = float(input())\n",
    "        err = False\n",
    "    except Exception:\n",
    "        print(\"Ошибка. Проверьте правильность введенных данных\\n\")\n",
    "\n",
    "n = 0\n",
    "\n",
    "validation(a, b, eps)"
   ]
  },
  {
   "cell_type": "markdown",
   "metadata": {},
   "source": [
    "# График функции"
   ]
  },
  {
   "cell_type": "code",
   "execution_count": 31,
   "metadata": {},
   "outputs": [
    {
     "data": {
      "image/png": "[encoded data removed]",
      "text/plain": [
       "<Figure size 864x432 with 1 Axes>"
      ]
     },
     "metadata": {},
     "output_type": "display_data"
    }
   ],
   "source": [
    "%matplotlib inline\n",
    "\n",
    "import numpy as np\n",
    "import matplotlib.pyplot as plt\n",
    "\n",
    "x = np.array(np.arange(-5, 2, step=0.1)) \n",
    "y =  calc_f(x)\n",
    "plt.figure(figsize=(12,6))\n",
    "plt.plot(x, y) \n",
    "plt.grid()\n",
    "plt.show()"
   ]
  }
 ],
 "metadata": {
  "kernelspec": {
   "display_name": "Python 3",
   "language": "python",
   "name": "python3"
  },
  "language_info": {
   "codemirror_mode": {
    "name": "ipython",
    "version": 3
   },
   "file_extension": ".py",
   "mimetype": "text/x-python",
   "name": "python",
   "nbconvert_exporter": "python",
   "pygments_lexer": "ipython3",
   "version": "3.6.5"
  }
 },
 "nbformat": 4,
 "nbformat_minor": 2
}
