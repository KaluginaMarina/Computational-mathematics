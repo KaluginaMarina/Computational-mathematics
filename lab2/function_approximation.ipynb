{
 "cells": [
  {
   "cell_type": "markdown",
   "metadata": {},
   "source": [
    "# Аппроксимация функции\n",
    "\n",
    "## Задание:\n",
    "\n",
    "Найти функцию, являющуюся наилучшим приближением заданной табличной функции по методу наименьших квадратов.\n",
    "\n",
    "## Рабочие формулы\n",
    "\n",
    "### Линейная функция\n",
    "\n",
    "$$a = \\frac{\\sum (x_i  y_i) n - \\sum (x_i) \\sum (y_i)}{\\sum (x_i x_i) n - \\sum (x_i) \\sum (x_i)}$$\n",
    "\n",
    "$$b = \\frac{\\sum (x_i  x_i) \\sum (y_i) - \\sum (x_i) \\sum (x_i y_i)}{\\sum (x_i x_i) n - \\sum (x_i) \\sum (x_i)} $$\n",
    "\n",
    "### Квадратичная функция\n",
    "\n",
    "$$ \\begin{cases}\n",
    "a_0 n + a_1 \\sum x_i + a_2 \\sum x_i^2 = \\sum y_i \\\\\n",
    "a_0 \\sum x_i + a_1 \\sum x_i^2 + a_2 \\sum x_i^3 = \\sum x_i y_i \\\\\n",
    "a_0 \\sum x_i^2 + a_1 \\sum x_i^3 + a_2 \\sum x_i^4 = \\sum x_i^2 y_i\n",
    "\\end{cases}$$\n",
    "\n",
    "Или в матричном виде: \n",
    "\n",
    "$$ \\begin{vmatrix}\n",
    "n & \\sum x_i & \\sum x_i^2 \\\\\n",
    "\\sum x_i & \\sum x_i^2 & \\sum x_i^3 \\\\\n",
    "\\sum x_i^2 & \\sum x_i^3 & \\sum x_i^4 \\\\\n",
    "\\end{vmatrix} * \\begin{vmatrix} a_0 \\\\ a_1 \\\\ a_2 \\end{vmatrix} = \\begin{vmatrix} \\sum y_i \\\\ \\sum x_i y_i \\\\ \\sum x_i^2 y_i \\end{vmatrix}$$\n",
    "\n",
    "### Степенная функция\n",
    "\n",
    "$ f(x) = ax^b $\n",
    "\n",
    "Линеанизированная функция: $ ln(f(x)) = ln(ax^b) = ln(a) + b ln(x)$\n",
    "\n",
    "Введем обозначения: $ y = ln(f(x)); a = ln(a); b=b; x = ln(x) $ \n",
    "\n",
    "Получаем линейную зависимость: $ y=a+bx $. После определения коэффициентов a и b вернемся к принятым ранее обозначениям: $a = e^a$\n",
    "\n",
    "### Экспоненициальная функция\n",
    "\n",
    "$ f(x) = a e^{bx} $\n",
    "\n",
    "Линеанизированная функция: $ ln(f(x)) = ln(a e^{bx}) = ln(a) + b x$\n",
    "\n",
    "Введем обозначения: $ y = ln(f(x)); a = ln(a); b=b $\n",
    "\n",
    "Получаем линейную зависимость: $ y=a+bx $. После определения коэффициентов a и b вернемся к принятым ранее обозначениям: $a = e^a$\n",
    "\n",
    "### Логарифмическая функция\n",
    "\n",
    "$ f(x) = a + b ln(x) $\n",
    "\n",
    "Введем обозначения: $ x = ln(x); a = ln(a); b=b $\n",
    "\n",
    "### Мера отклонения\n",
    "\n",
    "$$ S = \\sum \\varepsilon_i $$"
   ]
  },
  {
   "cell_type": "code",
   "execution_count": 96,
   "metadata": {},
   "outputs": [],
   "source": [
    "import numpy as np \n",
    "import math"
   ]
  },
  {
   "cell_type": "code",
   "execution_count": 9,
   "metadata": {},
   "outputs": [
    {
     "name": "stdout",
     "output_type": "stream",
     "text": [
      "[0.5380952380952376, 0.7921611721611743]\n"
     ]
    }
   ],
   "source": [
    "#вариант №2\n",
    "x = np.array([0.2, 0.8, 1.4, 2, 2.6, 3.2, 3.8, 4.4, 5, 5.6, 6.2, 6.8, 7.4])\n",
    "y = np.array([1.25, 1.41, 1.59, 1.82, 2.13, 2.27, 2.56, 2.89, 3.27, 3.69, 4.15, 4.54, 5.31])\n",
    "print(linear_function(x, y))"
   ]
  },
  {
   "cell_type": "code",
   "execution_count": 120,
   "metadata": {
    "scrolled": true
   },
   "outputs": [
    {
     "name": "stdout",
     "output_type": "stream",
     "text": [
      "Линейная функция: f(x) = 1.685382768738332 x + 1.2167884769271677\n",
      "Мера отклонения: S = 0.4730197919445184\n",
      "\n",
      "Квадратичная функция: f(x) = -0.05885292462866502 x^2 + 2.197385944878327 x + 0.37425996066504813\n"
     ]
    },
    {
     "ename": "TypeError",
     "evalue": "deviation_f() takes 3 positional arguments but 4 were given",
     "output_type": "error",
     "traceback": [
      "\u001b[0;31m---------------------------------------------------------------------------\u001b[0m",
      "\u001b[0;31mTypeError\u001b[0m                                 Traceback (most recent call last)",
      "\u001b[0;32m<ipython-input-120-b10c6bfa92b5>\u001b[0m in \u001b[0;36m<module>\u001b[0;34m()\u001b[0m\n\u001b[1;32m      8\u001b[0m \u001b[0mc\u001b[0m\u001b[0;34m,\u001b[0m \u001b[0mb\u001b[0m\u001b[0;34m,\u001b[0m \u001b[0ma\u001b[0m \u001b[0;34m=\u001b[0m \u001b[0mquadratic_function\u001b[0m\u001b[0;34m(\u001b[0m\u001b[0mx\u001b[0m\u001b[0;34m,\u001b[0m \u001b[0my\u001b[0m\u001b[0;34m)\u001b[0m\u001b[0;34m\u001b[0m\u001b[0m\n\u001b[1;32m      9\u001b[0m \u001b[0mprint\u001b[0m\u001b[0;34m(\u001b[0m\u001b[0;34mf'Квадратичная функция: f(x) = {a} x^2 + {b} x + {c}'\u001b[0m\u001b[0;34m)\u001b[0m\u001b[0;34m\u001b[0m\u001b[0m\n\u001b[0;32m---> 10\u001b[0;31m \u001b[0mprint\u001b[0m\u001b[0;34m(\u001b[0m\u001b[0;34mf'Мера отклонения: S = {deviation_f(f, a, b, c)}\\n'\u001b[0m\u001b[0;34m)\u001b[0m\u001b[0;34m\u001b[0m\u001b[0m\n\u001b[0m\u001b[1;32m     11\u001b[0m \u001b[0;34m\u001b[0m\u001b[0m\n\u001b[1;32m     12\u001b[0m \u001b[0ma\u001b[0m\u001b[0;34m,\u001b[0m \u001b[0mb\u001b[0m \u001b[0;34m=\u001b[0m \u001b[0mexponential_function\u001b[0m\u001b[0;34m(\u001b[0m\u001b[0mx\u001b[0m\u001b[0;34m,\u001b[0m \u001b[0my\u001b[0m\u001b[0;34m)\u001b[0m\u001b[0;34m\u001b[0m\u001b[0m\n",
      "\u001b[0;31mTypeError\u001b[0m: deviation_f() takes 3 positional arguments but 4 were given"
     ]
    }
   ],
   "source": [
    "#примеры с методички для проверки\n",
    "x = np.array([1.1, 2.3, 3.7, 4.5, 5.4, 6.8, 7.5])\n",
    "y = np.array([2.73, 5.12, 7.74, 8.91, 10.59, 12.75, 13.43])\n",
    "a, b = linear_function(x, y)\n",
    "print(f'Линейная функция: f(x) = {a} x + {b}')\n",
    "print(f'Мера отклонения: S = {deviation_f(0, a, b)}\\n')\n",
    "\n",
    "c, b, a = quadratic_function(x, y)\n",
    "print(f'Квадратичная функция: f(x) = {a} x^2 + {b} x + {c}')\n",
    "print(f'Мера отклонения: S = {deviation_f(a, b, c)}\\n')\n",
    "\n",
    "a, b = exponential_function(x, y)\n",
    "print(f'Экспоненциальная: f(x) = {a} e ^ ({b} x)')\n",
    "#print(f'Мера отклонения: S = {deviation_f(0, a, b)}\\n')\n",
    "\n",
    "a, b = power_function(x, y)\n",
    "print(f'Степенная функция: f(x) = {a} x ^ {b}')\n",
    "\n",
    "a, b = logarithmic_function(x, y)\n",
    "print(f'Логарифмичекая функция: f(x) = {a} ln x ^ {b}')"
   ]
  },
  {
   "cell_type": "code",
   "execution_count": 122,
   "metadata": {},
   "outputs": [],
   "source": [
    "def linear_function(x, y):\n",
    "    a = (np.sum(x*y)*len(x)-np.sum(x)*np.sum(y))/(np.sum(x*x)*len(x)-np.sum(x)*np.sum(x))\n",
    "    b = (np.sum(x*x)*np.sum(y)-np.sum(x)*np.sum(x*y))/(np.sum(x*x)*len(x)-np.sum(x)*np.sum(x))\n",
    "    return [a, b]\n",
    "\n",
    "# возвращает c, b, a\n",
    "def quadratic_function(x, y):\n",
    "    matrix_left = np.array([[len(x), np.sum(x), np.sum(x*x)], [np.sum(x), np.sum(x*x), np.sum(x*x*x)], [np.sum(x*x), np.sum(x*x*x), np.sum(x*x*x*x)]])\n",
    "    matrix_right = np.array([np.sum(y), np.sum(y*x), np.sum(y*x*x)])\n",
    "    return np.linalg.solve(matrix_left, matrix_right)\n",
    "\n",
    "def exponential_function(x, y):\n",
    "    lny = np.array([])\n",
    "    for i in y:\n",
    "        lny = np.append(lny, [math.log(i, math.exp(1))])\n",
    "    b, a = linear_function(x, lny)\n",
    "    a = math.exp(a)\n",
    "    return [a, b]\n",
    "\n",
    "def power_function(x, y):\n",
    "    lny = np.array([])\n",
    "    for i in y:\n",
    "        lny = np.append(lny, [math.log(i, math.exp(1))])\n",
    "    lnx = np.array([])\n",
    "    for i in x:\n",
    "        lnx = np.append(lnx, [math.log(i, math.exp(1))])\n",
    "    b, a = linear_function(lnx, lny)\n",
    "    a = np.exp(a)\n",
    "    return [a, b]\n",
    "\n",
    "def logarithmic_function(x, y):\n",
    "    for i in x:\n",
    "        lnx = np.append(lnx, [math.log(i, math.exp(1))])\n",
    "    b, a = linear_function(lnx, lny)\n",
    "    return [b, a]"
   ]
  },
  {
   "cell_type": "code",
   "execution_count": 121,
   "metadata": {},
   "outputs": [],
   "source": [
    "def f(x, a, b, c):\n",
    "    return a*x*x + b*x + c\n",
    "\n",
    "def deviation_f(a, b, c):\n",
    "    eps = np.array([])\n",
    "    for i in range(0, len(x)):\n",
    "        eps = np.append(eps, (y[i] - f(x[i], a, b, c)))\n",
    "    return np.sum(eps*eps)"
   ]
  }
 ],
 "metadata": {
  "kernelspec": {
   "display_name": "Python 3",
   "language": "python",
   "name": "python3"
  },
  "language_info": {
   "codemirror_mode": {
    "name": "ipython",
    "version": 3
   },
   "file_extension": ".py",
   "mimetype": "text/x-python",
   "name": "python",
   "nbconvert_exporter": "python",
   "pygments_lexer": "ipython3",
   "version": "3.6.5"
  }
 },
 "nbformat": 4,
 "nbformat_minor": 2
}
