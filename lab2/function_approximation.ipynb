{
 "cells": [
  {
   "cell_type": "markdown",
   "metadata": {},
   "source": [
    "# Аппроксимация функции\n",
    "\n",
    "## Задание:\n",
    "\n",
    "Найти функцию, являющуюся наилучшим приближением заданной табличной функции по методу наименьших квадратов.\n",
    "\n",
    "## Рабочие формулы\n",
    "\n",
    "### Линейная функция\n",
    "\n",
    "$$a = \\frac{\\sum (x_i  y_i) n - \\sum (x_i) \\sum (y_i)}{\\sum (x_i x_i) n - \\sum (x_i) \\sum (x_i)}$$\n",
    "\n",
    "$$b = \\frac{\\sum (x_i  x_i) \\sum (y_i) - \\sum (x_i) \\sum (x_i y_i)}{\\sum (x_i x_i) n - \\sum (x_i) \\sum (x_i)} $$\n",
    "\n",
    "### Квадратичная функция\n",
    "\n",
    "$$ \\begin{cases}\n",
    "a_0 n + a_1 \\sum x_i + a_2 \\sum x_i^2 = \\sum y_i \\\\\n",
    "a_0 \\sum x_i + a_1 \\sum x_i^2 + a_2 \\sum x_i^3 = \\sum x_i y_i \\\\\n",
    "a_0 \\sum x_i^2 + a_1 \\sum x_i^3 + a_2 \\sum x_i^4 = \\sum x_i^2 y_i\n",
    "\\end{cases}$$\n",
    "\n",
    "Или в матричном виде: \n",
    "\n",
    "$$ \\begin{vmatrix}\n",
    "n & \\sum x_i & \\sum x_i^2 \\\\\n",
    "\\sum x_i & \\sum x_i^2 & \\sum x_i^3 \\\\\n",
    "\\sum x_i^2 & \\sum x_i^3 & \\sum x_i^4 \\\\\n",
    "\\end{vmatrix} * \\begin{vmatrix} a_0 \\\\ a_1 \\\\ a_2 \\end{vmatrix} = \\begin{vmatrix} \\sum y_i \\\\ \\sum x_i y_i \\\\ \\sum x_i^2 y_i \\end{vmatrix}$$\n",
    "\n",
    "### Мера отклонения\n",
    "\n",
    "$$ S = \\sum \\varepsilon_i $$"
   ]
  },
  {
   "cell_type": "code",
   "execution_count": 70,
   "metadata": {},
   "outputs": [],
   "source": [
    "import numpy as np "
   ]
  },
  {
   "cell_type": "code",
   "execution_count": 23,
   "metadata": {},
   "outputs": [
    {
     "name": "stdout",
     "output_type": "stream",
     "text": [
      "[0.5380952380952376, 0.7921611721611743]\n"
     ]
    }
   ],
   "source": [
    "#вариант №2\n",
    "x = np.array([0.2, 0.8, 1.4, 2, 2.6, 3.2, 3.8, 4.4, 5, 5.6, 6.2, 6.8, 7.4])\n",
    "y = np.array([1.25, 1.41, 1.59, 1.82, 2.13, 2.27, 2.56, 2.89, 3.27, 3.69, 4.15, 4.54, 5.31])\n",
    "print(linear_function(x, y))"
   ]
  },
  {
   "cell_type": "code",
   "execution_count": 86,
   "metadata": {},
   "outputs": [
    {
     "name": "stdout",
     "output_type": "stream",
     "text": [
      "Линейная функция: f(x) = 1.4543295810901433 x + 5.291059872750016\n",
      "Мера отклонения: S = 1.3458542244457767\n",
      "\n",
      "Квадратичная функция: f(x) = 0.6016419114903161 x^2 + -2.6867176860422286 x + 6.365386717821894\n",
      "Мера отклонения: S = 5.1898812432879815\n",
      "\n"
     ]
    }
   ],
   "source": [
    "#примеры с методички для проверки\n",
    "x = np.array([1.2, 2.9, 4.1, 5.5, 6.7, 7.8, 9.2, 10.3])\n",
    "y = np.array([7.4, 9.5, 11.1, 12.9, 14.6, 17.3, 18.2, 20.7])\n",
    "a, b = linear_function(x, y)\n",
    "print(f'Линейная функция: f(x) = {a} x + {b}')\n",
    "print(f'Мера отклонения: S = {deviation_f(0, a, b)}\\n')\n",
    "\n",
    "x = np.array([1.1, 2.3, 3.7, 4.5, 5.4, 6.8, 7.5])\n",
    "y = np.array([3.5, 4.1, 5.2, 6.9, 8.3, 14.8, 21.2])\n",
    "c, b, a = quadratic_function(x, y)\n",
    "print(f'Квадратичная функция: f(x) = {a[0]} x^2 + {b[0]} x + {c[0]}')\n",
    "print(f'Мера отклонения: S = {deviation_f(a, b, c)}\\n')"
   ]
  },
  {
   "cell_type": "code",
   "execution_count": 83,
   "metadata": {},
   "outputs": [],
   "source": [
    "def linear_function(x, y):\n",
    "    a = (np.sum(x*y)*len(x)-np.sum(x)*np.sum(y))/(np.sum(x*x)*len(x)-np.sum(x)*np.sum(x))\n",
    "    b = (np.sum(x*x)*np.sum(y)-np.sum(x)*np.sum(x*y))/(np.sum(x*x)*len(x)-np.sum(x)*np.sum(x))\n",
    "    return [a, b]\n",
    "\n",
    "def quadratic_function(x, y):\n",
    "    matrix_left = np.array([[len(x), np.sum(x), np.sum(x*x)], [np.sum(x), np.sum(x*x), np.sum(x*x*x)], [np.sum(x*x), np.sum(x*x*x), np.sum(x*x*x*x)]])\n",
    "    matrix_right = np.array([[np.sum(y)], [np.sum(y*x)], [np.sum(y*x*x)]])\n",
    "    return np.linalg.solve(matrix_left, matrix_right)"
   ]
  },
  {
   "cell_type": "code",
   "execution_count": 82,
   "metadata": {},
   "outputs": [],
   "source": [
    "def f(x, a, b, c):\n",
    "    return a*x*x + b*x + c\n",
    "\n",
    "def deviation_f(a, b, c):\n",
    "    eps = np.array([])\n",
    "    for i in range(0, len(x)):\n",
    "        eps = np.append(eps, (y[i] - f(x[i], a, b, c)))\n",
    "    return np.sum(eps*eps)"
   ]
  }
 ],
 "metadata": {
  "kernelspec": {
   "display_name": "Python 3",
   "language": "python",
   "name": "python3"
  },
  "language_info": {
   "codemirror_mode": {
    "name": "ipython",
    "version": 3
   },
   "file_extension": ".py",
   "mimetype": "text/x-python",
   "name": "python",
   "nbconvert_exporter": "python",
   "pygments_lexer": "ipython3",
   "version": "3.6.5"
  }
 },
 "nbformat": 4,
 "nbformat_minor": 2
}
