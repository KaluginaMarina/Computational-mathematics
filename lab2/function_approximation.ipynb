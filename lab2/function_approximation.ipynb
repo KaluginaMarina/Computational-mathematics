{
 "cells": [
  {
   "cell_type": "markdown",
   "metadata": {},
   "source": [
    "# Аппроксимация функции\n",
    "\n",
    "## Задание:\n",
    "\n",
    "Найти функцию, являющуюся наилучшим приближением заданной табличной функции по методу наименьших квадратов.\n",
    "\n",
    "## Рабочие формулы\n",
    "\n",
    "### Линейная функция:\n",
    "\n",
    "$$a = \\frac{\\sum (x_i  y_i) n - \\sum (x_i) \\sum (y_i)}{\\sum (x_i x_i) n - \\sum (x_i) \\sum (x_i)}$$\n",
    "\n",
    "$$b = \\frac{\\sum (x_i  x_i) \\sum (y_i) - \\sum (x_i) \\sum (x_i y_i)}{\\sum (x_i x_i) n - \\sum (x_i) \\sum (x_i)} $$\n",
    "\n",
    "### Мера отклонения\n",
    "\n",
    "$$ S = \\sum \\varepsilon_i $$"
   ]
  },
  {
   "cell_type": "code",
   "execution_count": 6,
   "metadata": {},
   "outputs": [],
   "source": [
    "import numpy as np "
   ]
  },
  {
   "cell_type": "code",
   "execution_count": 23,
   "metadata": {},
   "outputs": [
    {
     "name": "stdout",
     "output_type": "stream",
     "text": [
      "[0.5380952380952376, 0.7921611721611743]\n"
     ]
    }
   ],
   "source": [
    "#вариант №2\n",
    "x = np.array([0.2, 0.8, 1.4, 2, 2.6, 3.2, 3.8, 4.4, 5, 5.6, 6.2, 6.8, 7.4])\n",
    "y = np.array([1.25, 1.41, 1.59, 1.82, 2.13, 2.27, 2.56, 2.89, 3.27, 3.69, 4.15, 4.54, 5.31])\n",
    "print(linear_function(x, y))"
   ]
  },
  {
   "cell_type": "code",
   "execution_count": 55,
   "metadata": {},
   "outputs": [
    {
     "name": "stdout",
     "output_type": "stream",
     "text": [
      "Линейная функция: f(x) = 1.4543295810901433x + 5.291059872750016\n",
      "Мера отклонения: S = 1.3458542244457767\n"
     ]
    }
   ],
   "source": [
    "#пример с методички для проверки\n",
    "x = np.array([1.2, 2.9, 4.1, 5.5, 6.7, 7.8, 9.2, 10.3])\n",
    "y = np.array([7.4, 9.5, 11.1, 12.9, 14.6, 17.3, 18.2, 20.7])\n",
    "\n",
    "print(f'Линейная функция: f(x) = {linear_function(x, y)[0]}x + {linear_function(x, y)[1]}')\n",
    "print(f'Мера отклонения: S = {deviation_linear_f()}')\n"
   ]
  },
  {
   "cell_type": "code",
   "execution_count": 53,
   "metadata": {},
   "outputs": [],
   "source": [
    "def linear_function(x, y):\n",
    "    a = (np.sum(x*y)*len(x)-np.sum(x)*np.sum(y))/(np.sum(x*x)*len(x)-np.sum(x)*np.sum(x))\n",
    "    b = (np.sum(x*x)*np.sum(y)-np.sum(x)*np.sum(x*y))/(np.sum(x*x)*len(x)-np.sum(x)*np.sum(x))\n",
    "    return [a, b]\n",
    "\n",
    "def linear_f(x, a, b):\n",
    "    return a*x + b\n",
    "\n",
    "def deviation_linear_f():\n",
    "    a, b = linear_function(x, y)\n",
    "    eps = np.array([])\n",
    "    for i in range(0, len(x)):\n",
    "        eps = np.append(eps, (y[i] - linear_f(x[i], a, b)))\n",
    "    return np.sum(eps*eps)"
   ]
  }
 ],
 "metadata": {
  "kernelspec": {
   "display_name": "Python 3",
   "language": "python",
   "name": "python3"
  },
  "language_info": {
   "codemirror_mode": {
    "name": "ipython",
    "version": 3
   },
   "file_extension": ".py",
   "mimetype": "text/x-python",
   "name": "python",
   "nbconvert_exporter": "python",
   "pygments_lexer": "ipython3",
   "version": "3.6.5"
  }
 },
 "nbformat": 4,
 "nbformat_minor": 2
}
