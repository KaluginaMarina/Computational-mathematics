{
 "cells": [
  {
   "cell_type": "code",
   "execution_count": 1,
   "metadata": {},
   "outputs": [],
   "source": [
    "def f(x):\n",
    "    return -1.38*x**3 - 5.42*x**2 + 2.57*x + 10.95"
   ]
  },
  {
   "cell_type": "code",
   "execution_count": 6,
   "metadata": {},
   "outputs": [],
   "source": [
    "def methodBisection(a, b, eps, n):\n",
    "    n = n + 1\n",
    "\n",
    "    if ( abs(f(a)) < eps ):\n",
    "        return a\n",
    "    if ( abs(f(b)) < eps  ):\n",
    "        return b\n",
    "    if ( abs(f((a + b)/2)) < eps ):\n",
    "        return (a + b)/2\n",
    "    x = (a + b)/2\n",
    "    if ( f(a)/f(x) < 0):\n",
    "        return methodBisection(a, x, eps, n)\n",
    "    else: \n",
    "        return methodBisection(x, b, eps, n)\n",
    "    "
   ]
  },
  {
   "cell_type": "code",
   "execution_count": 7,
   "metadata": {},
   "outputs": [
    {
     "name": "stdout",
     "output_type": "stream",
     "text": [
      "Введите координату начала:\n",
      "1\n",
      "Введите координату конца:\n",
      "2\n",
      "Введите погрешность:\n",
      "0.000001\n",
      "Ответ:\n",
      "1.4066400527954102\n"
     ]
    }
   ],
   "source": [
    "print (\"Введите координату начала:\")\n",
    "a = float(input())\n",
    "print (\"Введите координату конца:\")\n",
    "b = float(input())\n",
    "if (a > b):\n",
    "    print(\"Координата конца больше координаты начала? :С\")\n",
    "    exit(0)\n",
    "print (\"Введите погрешность:\")\n",
    "eps = float(input())\n",
    "\n",
    "print (\"Ответ:\")\n",
    "print (methodBisection(a, b, eps, 0))"
   ]
  },
  {
   "cell_type": "code",
   "execution_count": 4,
   "metadata": {},
   "outputs": [
    {
     "data": {
      "image/png": "[encoded data removed]",
      "text/plain": [
       "<Figure size 432x288 with 1 Axes>"
      ]
     },
     "metadata": {},
     "output_type": "display_data"
    }
   ],
   "source": [
    "%matplotlib inline\n",
    "\n",
    "import numpy as np\n",
    "import matplotlib.pyplot as plt\n",
    "\n",
    "x = np.array(np.arange(-20, 20, step=0.1)) \n",
    "y =  -1.38*x**3 - 5.42*x**2 + 2.57*x + 10.95 \n",
    "plt.plot(x, y) \n",
    "plt.show()\n"
   ]
  }
 ],
 "metadata": {
  "kernelspec": {
   "display_name": "Python 3",
   "language": "python",
   "name": "python3"
  },
  "language_info": {
   "codemirror_mode": {
    "name": "ipython",
    "version": 3
   },
   "file_extension": ".py",
   "mimetype": "text/x-python",
   "name": "python",
   "nbconvert_exporter": "python",
   "pygments_lexer": "ipython3",
   "version": "3.6.5"
  }
 },
 "nbformat": 4,
 "nbformat_minor": 2
}
