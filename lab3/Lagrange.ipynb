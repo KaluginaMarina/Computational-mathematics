{
 "cells": [
  {
   "cell_type": "markdown",
   "metadata": {},
   "source": [
    "# Интерполяционный многочлен Лагранжа\n",
    "Вариант 5"
   ]
  },
  {
   "cell_type": "code",
   "execution_count": 7,
   "metadata": {},
   "outputs": [],
   "source": [
    "import numpy as np \n",
    "import math\n",
    "\n",
    "x = [0.298, 0.303, 0.310, 0.317, 0.323, 0.330, 0.339]\n",
    "y = [3.2557, 3.174, 3.1218, 3.0482, 2.9875, 2.9195, 2.8359]\n",
    "x1 = 0.314\n",
    "x2 = 0.253\n",
    "x3 = 0.512\n",
    "x4 = 0.337"
   ]
  },
  {
   "cell_type": "code",
   "execution_count": 30,
   "metadata": {},
   "outputs": [],
   "source": [
    "def interpolate_lagrange() :\n",
    "    res = 0.0\n",
    "    for i in range (0, len(x)):\n",
    "        p = 1\n",
    "        for j in range (0, len(x)):\n",
    "            if(i != j):\n",
    "                p *= (x1 - x[j])/(x[i]-x[j])\n",
    "        res += p*y[i]\n",
    "    return res"
   ]
  },
  {
   "cell_type": "code",
   "execution_count": null,
   "metadata": {},
   "outputs": [],
   "source": []
  }
 ],
 "metadata": {
  "kernelspec": {
   "display_name": "Python 3",
   "language": "python",
   "name": "python3"
  },
  "language_info": {
   "codemirror_mode": {
    "name": "ipython",
    "version": 3
   },
   "file_extension": ".py",
   "mimetype": "text/x-python",
   "name": "python",
   "nbconvert_exporter": "python",
   "pygments_lexer": "ipython3",
   "version": "3.6.5"
  }
 },
 "nbformat": 4,
 "nbformat_minor": 2
}
