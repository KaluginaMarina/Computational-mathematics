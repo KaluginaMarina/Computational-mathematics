{
 "cells": [
  {
   "cell_type": "code",
   "execution_count": 31,
   "metadata": {},
   "outputs": [],
   "source": [
    "import numpy as np \n",
    "import math\n",
    "\n",
    "x = [0.298, 0.303, 0.310, 0.317, 0.323, 0.330, 0.339]\n",
    "y = [3.2557, 3.174, 3.1218, 3.0482, 2.9875, 2.9195, 2.8359]\n",
    "#x1 = 0.314\n",
    "#x2 = 0.253\n",
    "#x3 = 0.512\n",
    "#x4 = 0.337"
   ]
  },
  {
   "cell_type": "markdown",
   "metadata": {},
   "source": [
    "# Интерполяционный многочлен Лагранжа\n",
    "Вариант 5"
   ]
  },
  {
   "cell_type": "code",
   "execution_count": 30,
   "metadata": {},
   "outputs": [],
   "source": [
    "def interpolate_lagrange(x1) :\n",
    "    res = 0.0\n",
    "    for i in range (0, len(x)):\n",
    "        p = 1.0\n",
    "        for j in range (0, len(x)):\n",
    "            if(i != j):\n",
    "                p *= (x1 - x[j])/(x[i]-x[j])\n",
    "        res += p*y[i]\n",
    "    return res"
   ]
  },
  {
   "cell_type": "markdown",
   "metadata": {},
   "source": [
    "# Интерполяционный многочлен Ньютона с разделенными разностями"
   ]
  },
  {
   "cell_type": "code",
   "execution_count": 78,
   "metadata": {},
   "outputs": [
    {
     "name": "stdout",
     "output_type": "stream",
     "text": [
      "12.870569230769231\n"
     ]
    }
   ],
   "source": [
    "def f(ind):\n",
    "    if len(ind) < 2:\n",
    "        return None\n",
    "    if len(ind) == 2:\n",
    "        return (y[ind[1]] - y[ind[0]])/(x[ind[1]] - x[ind[0]])\n",
    "    arr1 = range(1, len(ind))\n",
    "    arr2 = range(0, len(ind) - 1)\n",
    "    print (ind)\n",
    "    print ( (f(arr1) - f(arr2))/(x[ind[len(ind) - 1]] - x[ind[0]]))\n",
    "    print()\n",
    "    return (f(arr1) - f(arr2))/(x[ind[len(ind) - 1]] - x[ind[0]])\n",
    "\n",
    "def interpolate_newthon(x1):\n",
    "    res = y[0]\n",
    "    arr = range(1, 3)\n",
    "    for i in range (1, len(x) - 1):\n",
    "        s = f(arr)\n",
    "        p = 1.0\n",
    "        for j in range (0, i-1):\n",
    "            p *= (x1 - x[j])\n",
    "        res += s * p\n",
    "    return res\n",
    "        \n",
    "print(interpolate_newthon(0.22))"
   ]
  },
  {
   "cell_type": "code",
   "execution_count": 62,
   "metadata": {},
   "outputs": [],
   "source": [
    "x = [0.15, 0.2, 0.33, 0.77, 0.62]\n",
    "y = [1.25, 2.38, 3.79, 5.44, 7.14]"
   ]
  }
 ],
 "metadata": {
  "kernelspec": {
   "display_name": "Python 3",
   "language": "python",
   "name": "python3"
  },
  "language_info": {
   "codemirror_mode": {
    "name": "ipython",
    "version": 3
   },
   "file_extension": ".py",
   "mimetype": "text/x-python",
   "name": "python",
   "nbconvert_exporter": "python",
   "pygments_lexer": "ipython3",
   "version": "3.6.5"
  }
 },
 "nbformat": 4,
 "nbformat_minor": 2
}
