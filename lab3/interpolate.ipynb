{
 "cells": [
  {
   "cell_type": "markdown",
   "metadata": {},
   "source": [
    "# Интерполяционный многочлен Лагранжа\n",
    "\n",
    "$$ L(x)=\\sum _{{i=0}}^{n}y_{i}l_{i}(x), $$\n",
    "\n",
    "где базисные полиномы определяются по формуле:\n",
    "$$\n",
    "{\\displaystyle l_{i}(x)=\\prod _{j=0,j\\neq i}^{n}{\\frac {x-x_{j}}{x_{i}-x_{j}}}={\\frac {x-x_{0}}{x_{i}-x_{0}}}\\cdots {\\frac {x-x_{i-1}}{x_{i}-x_{i-1}}}\\cdot {\\frac {x-x_{i+1}}{x_{i}-x_{i+1}}}\\cdots {\\frac {x-x_{n}}{x_{i}-x_{n}}}}\n",
    "$$\n",
    "\n"
   ]
  },
  {
   "cell_type": "code",
   "execution_count": 20,
   "metadata": {},
   "outputs": [
    {
     "data": {
      "text/plain": [
       "3.0811579937758635"
      ]
     },
     "execution_count": 20,
     "metadata": {},
     "output_type": "execute_result"
    }
   ],
   "source": [
    "import numpy as np \n",
    "import math\n",
    "\n",
    "# Вариант 5\n",
    "x = [0.298, 0.303, 0.310, 0.317, 0.323, 0.330, 0.339]\n",
    "y = [3.2557, 3.174, 3.1218, 3.0482, 2.9875, 2.9195, 2.8359]\n",
    "\n",
    "#x1 = 0.314\n",
    "\n",
    "def interpolate_lagrange(x, y, x1) :\n",
    "    res = 0.0\n",
    "    for i in range (0, len(x)):\n",
    "        p = 1.0\n",
    "        for j in range (0, len(x)):\n",
    "            if(i != j):\n",
    "                p *= (x1 - x[j])/(x[i]-x[j])\n",
    "        res += p*y[i]\n",
    "    return res\n",
    "\n",
    "interpolate_lagrange(x, y, 0.314)"
   ]
  },
  {
   "cell_type": "markdown",
   "metadata": {},
   "source": [
    "# Первая интерполяционная формулой Ньютона для интерполирования вперед\n",
    "\n",
    "$$P_{n}(x)=y_{0}+t\\Delta y_{0}+{\\frac  {t(t-1)}{2!}}\\Delta ^{2}y_{0}+\\ldots +{\\frac  {t(t-1)\\ldots (t-n+1)}{n!}}\\Delta ^{n}y_{0}$$, где ${\\displaystyle q={\\frac {x-x_{0}}{h}},\\;y_{i}=f_{i}} q={\\frac  {x-x_{0}}h},\\;y_{i}=f_{i}$, а выражения вида ${\\displaystyle \\Delta ^{k}y_{0}} $ — конечные разности.\n"
   ]
  },
  {
   "cell_type": "code",
   "execution_count": 25,
   "metadata": {},
   "outputs": [
    {
     "name": "stdout",
     "output_type": "stream",
     "text": [
      "1.0315088144385198\n"
     ]
    }
   ],
   "source": [
    "# Вариант 5\n",
    "x = [0.25, 0.30, 0.35, 0.40, 0.45, 0.50, 0.55]\n",
    "y = [1.2557, 2.1764, 3.1218, 4.0482, 5.9875, 6.9195, 7.8359]\n",
    "\n",
    "# x2 = 0.253 \n",
    "# x3 = 0.512\n",
    "def coef(y, n, i):\n",
    "    if n == 0:\n",
    "        return (y[i + 1] - y[i]) \n",
    "    return (coef(y, n - 1, i + 1) - coef(y, n - 1, i))\n",
    "\n",
    "def interpolate_newton_forward(x, y, x0):\n",
    "    i = next(i - 1 for i, x_i in enumerate(x) if x_i > x0)\n",
    "    x_i = x[i]\n",
    "    h = x[1] - x[0]\n",
    "    t = (x0 - x_i) / h\n",
    "\n",
    "    return y[i] + sum(np.prod(list(t - k for k in range(j))) / math.factorial(j - 1) * coef(y, j - 1, i)\n",
    "             for j in range(1, len(x) - 1 - i))\n",
    "\n",
    "print(interpolate_newton_forward(x, y, 0.253));"
   ]
  },
  {
   "cell_type": "markdown",
   "metadata": {},
   "source": [
    "# Интерполяционный многочлен Ньютона с разделенными разностями"
   ]
  },
  {
   "cell_type": "code",
   "execution_count": 28,
   "metadata": {},
   "outputs": [
    {
     "data": {
      "text/plain": [
       "2.843574563646219"
      ]
     },
     "execution_count": 28,
     "metadata": {},
     "output_type": "execute_result"
    }
   ],
   "source": [
    "# Вариант 5\n",
    "x = [0.298, 0.303, 0.310, 0.317, 0.323, 0.330, 0.339]\n",
    "y = [3.2557, 3.174, 3.1218, 3.0482, 2.9875, 2.9195, 2.8359]\n",
    "\n",
    "#x4 = 0.337\n",
    "\n",
    "def newton_with_div_diff(x, y, x0):\n",
    "    n = len(x)\n",
    "    res = y[0]\n",
    "    xx = 1.0\n",
    "    for i in range(1, n):\n",
    "        xx *= (x0 - x[i - 1])\n",
    "        f = 0\n",
    "        for j in range(0, i + 1):\n",
    "            xxx = 1\n",
    "            for k in range(0, i + 1):\n",
    "                if (k!=j):\n",
    "                    xxx *= x[j]-x[k]\n",
    "            f += y[j]/xxx\n",
    "        res += xx * f\n",
    "    return res\n",
    "\n",
    "newton_with_div_diff(x, y, 0.337)"
   ]
  }
 ],
 "metadata": {
  "kernelspec": {
   "display_name": "Python 3",
   "language": "python",
   "name": "python3"
  }
 },
 "nbformat": 4,
 "nbformat_minor": 2
}
