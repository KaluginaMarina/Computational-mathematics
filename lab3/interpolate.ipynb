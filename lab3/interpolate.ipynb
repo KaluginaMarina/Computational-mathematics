{
 "cells": [
  {
   "cell_type": "markdown",
   "metadata": {},
   "source": [
    "# Интерполяционный многочлен Лагранжа\n",
    "\n",
    "$$ L(x)=\\sum _{{i=0}}^{n}y_{i}l_{i}(x), $$\n",
    "\n",
    "где базисные полиномы определяются по формуле:\n",
    "$$\n",
    "{\\displaystyle l_{i}(x)=\\prod _{j=0,j\\neq i}^{n}{\\frac {x-x_{j}}{x_{i}-x_{j}}}={\\frac {x-x_{0}}{x_{i}-x_{0}}}\\cdots {\\frac {x-x_{i-1}}{x_{i}-x_{i-1}}}\\cdot {\\frac {x-x_{i+1}}{x_{i}-x_{i+1}}}\\cdots {\\frac {x-x_{n}}{x_{i}-x_{n}}}}\n",
    "$$\n",
    "\n"
   ]
  },
  {
   "cell_type": "code",
   "execution_count": 47,
   "metadata": {},
   "outputs": [
    {
     "data": {
      "text/plain": [
       "3.0811579937758635"
      ]
     },
     "execution_count": 47,
     "metadata": {},
     "output_type": "execute_result"
    }
   ],
   "source": [
    "import numpy as np \n",
    "import math\n",
    "\n",
    "# Вариант 5\n",
    "x = [0.298, 0.303, 0.310, 0.317, 0.323, 0.330, 0.339]\n",
    "y = [3.2557, 3.174, 3.1218, 3.0482, 2.9875, 2.9195, 2.8359]\n",
    "\n",
    "#x1 = 0.314\n",
    "\n",
    "def interpolate_lagrange(x, y, x1) :\n",
    "    res = 0.0\n",
    "    for i in range (0, len(x)):\n",
    "        p = 1.0\n",
    "        for j in range (0, len(x)):\n",
    "            if(i != j):\n",
    "                p *= (x1 - x[j])/(x[i]-x[j])\n",
    "        res += p*y[i]\n",
    "    return res\n",
    "\n",
    "print(interpolate_lagrange(x, y, 0.314))"
   ]
  },
  {
   "cell_type": "markdown",
   "metadata": {},
   "source": [
    "# Первая интерполяционная формулой Ньютона для интерполирования вперед\n",
    "\n",
    "$$P_{n}(x)=y_{0}+t\\Delta y_{0}+{\\frac  {t(t-1)}{2!}}\\Delta ^{2}y_{0}+\\ldots +{\\frac  {t(t-1)\\ldots (t-n+1)}{n!}}\\Delta ^{n}y_{0}$$, где ${\\displaystyle q={\\frac {x-x_{0}}{h}},\\;y_{i}=f_{i}} q={\\frac  {x-x_{0}}h},\\;y_{i}=f_{i}$, а выражения вида ${\\displaystyle \\Delta ^{k}y_{0}} $ — конечные разности.\n"
   ]
  },
  {
   "cell_type": "code",
   "execution_count": 25,
   "metadata": {},
   "outputs": [
    {
     "name": "stdout",
     "output_type": "stream",
     "text": [
      "1.0315088144385198\n"
     ]
    }
   ],
   "source": [
    "# Вариант 5\n",
    "x = [0.25, 0.30, 0.35, 0.40, 0.45, 0.50, 0.55]\n",
    "y = [1.2557, 2.1764, 3.1218, 4.0482, 5.9875, 6.9195, 7.8359]\n",
    "\n",
    "# x2 = 0.253 \n",
    "# x3 = 0.512\n",
    "def coef(y, n, i):\n",
    "    if n == 0:\n",
    "        return (y[i + 1] - y[i]) \n",
    "    return (coef(y, n - 1, i + 1) - coef(y, n - 1, i))\n",
    "\n",
    "def interpolate_newton_forward(x, y, x0):\n",
    "    i = next(i - 1 for i, x_i in enumerate(x) if x_i > x0)\n",
    "    x_i = x[i]\n",
    "    h = x[1] - x[0]\n",
    "    t = (x0 - x_i) / h\n",
    "\n",
    "    return y[i] + sum(np.prod(list(t - k for k in range(j))) / math.factorial(j - 1) * coef(y, j - 1, i)\n",
    "             for j in range(1, len(x) - 1 - i))\n",
    "\n",
    "print(interpolate_newton_forward(x, y, 0.253));"
   ]
  },
  {
   "cell_type": "markdown",
   "metadata": {},
   "source": [
    "# Интерполяционный многочлен Ньютона с разделенными разностями\n",
    "\n",
    "Формула для разделённой разности: \n",
    "\n",
    "$${\\displaystyle f(x_{0};\\;x_{1};\\;\\ldots ;\\;x_{n})=\\sum _{j=0}^{n}{\\dfrac {f(x_{j})}{\\prod \\limits _{i=0 \\atop i\\neq j}^{n}(x_{j}-x_{i})}},} {\\displaystyle f(x_{0};\\;x_{1};\\;\\ldots ;\\;x_{n})=\\sum _{j=0}^{n}{\\dfrac {f(x_{j})}{\\prod \\limits _{i=0 \\atop i\\neq j}^{n}(x_{j}-x_{i})}}}$$\n",
    "\n",
    "\n",
    "$${\\displaystyle L_{n}(x)=f(x_{0})+f(x_{0};\\;x_{1})\\cdot (x-x_{0})+f(x_{0};\\;x_{1};\\;x_{2})\\cdot (x-x_{0})\\cdot (x-x_{1})+\\ldots +f(x_{0};\\;\\ldots ;\\;x_{n})\\cdot \\prod _{k=0}^{n-1}(x-x_{k})}$$"
   ]
  },
  {
   "cell_type": "code",
   "execution_count": 30,
   "metadata": {},
   "outputs": [
    {
     "name": "stdout",
     "output_type": "stream",
     "text": [
      "2.843574563646219\n"
     ]
    }
   ],
   "source": [
    "# Вариант 5\n",
    "x = [0.298, 0.303, 0.310, 0.317, 0.323, 0.330, 0.339]\n",
    "y = [3.2557, 3.174, 3.1218, 3.0482, 2.9875, 2.9195, 2.8359]\n",
    "\n",
    "#x4 = 0.337\n",
    "\n",
    "def newton_with_div_diff(x, y, x0):\n",
    "    n = len(x)\n",
    "    res = y[0]\n",
    "    xx = 1.0\n",
    "    for i in range(1, n):\n",
    "        xx *= (x0 - x[i - 1])\n",
    "        f = 0\n",
    "        for j in range(0, i + 1):\n",
    "            xxx = 1\n",
    "            for k in range(0, i + 1):\n",
    "                if (k!=j):\n",
    "                    xxx *= x[j]-x[k]\n",
    "            f += y[j]/xxx\n",
    "        res += xx * f\n",
    "    return res\n",
    "\n",
    "print(newton_with_div_diff(x, y, 0.337))"
   ]
  },
  {
   "cell_type": "code",
   "execution_count": null,
   "metadata": {},
   "outputs": [
    {
     "name": "stdout",
     "output_type": "stream",
     "text": [
      "Таблица 1:\n",
      "x: [0.298, 0.303, 0.31, 0.317, 0.323, 0.33, 0.339]\n",
      "y: [3.2557, 3.174, 3.1218, 3.0482, 2.9875, 2.9195, 2.8359]\n",
      "\n",
      "\n",
      "Таблица 5:\n",
      "x: [0.25, 0.3, 0.35, 0.4, 0.45, 0.5, 0.55]\n",
      "y: [1.2557, 2.1764, 3.1218, 4.0482, 5.9875, 6.9195, 7.8359]\n",
      "\n",
      "\n",
      "Введите Х0 для поиска приближенного значения функции с помощью многочлена Лагранжа:\n"
     ]
    }
   ],
   "source": [
    "def inp(x):\n",
    "    while (True):\n",
    "        try:\n",
    "            x0 = float(input())\n",
    "            if x0 < min(x) or x0 > max(x):\n",
    "                print(\"Внимание: введенное число выходит за границу массива:\")\n",
    "            return x0\n",
    "        except Exception:\n",
    "            print(\"Ошибка. Проверьте правильность введенных данных\")\n",
    "\n",
    "\n",
    "with open('table1.txt', 'r') as myfile:\n",
    "    content = myfile.readlines()\n",
    "content = [x.strip() for x in content] \n",
    "x1 = [float(x) for x in content[0].split()]\n",
    "y1 = [float(x) for x in content[1].split()]\n",
    "\n",
    "with open('table5.txt', 'r') as myfile:\n",
    "    content = myfile.readlines()\n",
    "content = [x.strip() for x in content] \n",
    "x2 = [float(x) for x in content[0].split()]\n",
    "y2 = [float(x) for x in content[1].split()]\n",
    "\n",
    "print(f'Таблица 1:\\nx: {x1}\\ny: {y1}\\n\\n')\n",
    "print(f'Таблица 5:\\nx: {x2}\\ny: {y2}\\n\\n')\n",
    "\n",
    "print(\"Введите Х0 для поиска приближенного значения функции с помощью многочлена Лагранжа:\")\n",
    "x0 = inp(x1)\n",
    "print(f'Приближенное значение функции при Х0 = {x0} с помошью многочлена Лагранжа: {interpolate_lagrange(x1, y1, x0)}\\n\\n')\n",
    "\n",
    "print(\"Введите Х0 для поиска приближенного значения функции с помощью первой интерполяционной формулы Ньютона :\")\n",
    "x0 = inp(x2)\n",
    "print(f'Приблеженное значение функции при Х0 = {x0} с помощью первой интерполяционной формулы Ньютона : {interpolate_newton_forward(x2, y2, x0)}\\n\\n')\n",
    "\n",
    "print(\"Введите Х0 для поиска приближенного значения функции с помощью интерполяционного монгочлена Ньютона с разделенными разностями:\")\n",
    "x0 = inp(x1)\n",
    "print(f'Приблеженное значение функции при Х0 = {x0} с помощью интерполяционного монгочлена Ньютона с разделенными разностями : {newton_with_div_diff(x1, y1, x0)}\\n\\n')"
   ]
  }
 ],
 "metadata": {
  "kernelspec": {
   "display_name": "Python 3",
   "language": "python",
   "name": "python3"
  }
 },
 "nbformat": 4,
 "nbformat_minor": 2
}
