{
 "cells": [
  {
   "cell_type": "markdown",
   "metadata": {},
   "source": [
    "# Интерполяционный многочлен Лагранжа\n",
    "Вариант 5"
   ]
  },
  {
   "cell_type": "code",
   "execution_count": 3,
   "metadata": {},
   "outputs": [],
   "source": [
    "import numpy as np \n",
    "import math\n",
    "\n",
    "x = [0.298, 0.303, 0.310, 0.317, 0.323, 0.330, 0.339]\n",
    "y = [3.2557, 3.174, 3.1218, 3.0482, 2.9875, 2.9195, 2.8359]\n",
    "\n",
    "#x1 = 0.314\n",
    "#x4 = 0.337\n",
    "\n",
    "def interpolate_lagrange(x1) :\n",
    "    res = 0.0\n",
    "    for i in range (0, len(x)):\n",
    "        p = 1.0\n",
    "        for j in range (0, len(x)):\n",
    "            if(i != j):\n",
    "                p *= (x1 - x[j])/(x[i]-x[j])\n",
    "        res += p*y[i]\n",
    "    return res"
   ]
  },
  {
   "cell_type": "markdown",
   "metadata": {},
   "source": [
    "# Обратная интерполяционная формулой Ньютона для интерполирования назад\n",
    "\n",
    "$$P_{n}(x)=y_{n}+q\\Delta y_{{n-1}}+{\\frac  {q(q+1)}{2!}}\\Delta ^{2}y_{{n-2}}+\\ldots +{\\frac  {q(q+1)\\ldots (q+n-1)}{n!}}\\Delta ^{n}y_{0},$$ где $ {\\displaystyle q={\\frac {x-x_{n}}{h}}}$\n"
   ]
  },
  {
   "cell_type": "code",
   "execution_count": 15,
   "metadata": {},
   "outputs": [
    {
     "name": "stdout",
     "output_type": "stream",
     "text": [
      "6.858426003182223\n"
     ]
    }
   ],
   "source": [
    "x = [0.25, 0.30, 0.35, 0.40, 0.45, 0.50, 0.55]\n",
    "y = [1.2557, 2.1764, 3.1218, 4.0482, 5.9875, 6.9195, 7.8359]\n",
    "\n",
    "#x2 = 0.253\n",
    "#x3 = 0.512\n",
    "\n",
    "\n",
    "def coef(x, y): \n",
    "    n = len(x) \n",
    "    a = [] \n",
    "    for i in range(n): \n",
    "        a.append(y[i]) \n",
    "\n",
    "    for j in range(1, n): \n",
    "        for i in range(n-1, j-1, -1): \n",
    "            a[i] = float(a[i]-a[i-1])/float(x[i]-x[i-j]) \n",
    "\n",
    "    return np.array(a)\n",
    "\n",
    "def interpolate_newthon(a, x, x0): \n",
    "    n = len(a) - 1 \n",
    "    temp = a[n] \n",
    "    for i in range(n - 1, -1, -1): \n",
    "        temp = temp * (x0 - x[i]) + a[i] \n",
    "    return temp\n",
    "    \n",
    "print(interpolate_newthon(coef(x, y), x, 0.512))"
   ]
  }
 ],
 "metadata": {
  "kernelspec": {
   "display_name": "Python 3",
   "language": "python",
   "name": "python3"
  },
  "language_info": {
   "codemirror_mode": {
    "name": "ipython",
    "version": 3
   },
   "file_extension": ".py",
   "mimetype": "text/x-python",
   "name": "python",
   "nbconvert_exporter": "python",
   "pygments_lexer": "ipython3",
   "version": "3.6.5"
  }
 },
 "nbformat": 4,
 "nbformat_minor": 2
}
